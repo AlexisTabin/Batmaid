{
 "cells": [
  {
   "cell_type": "code",
   "execution_count": 266,
   "metadata": {},
   "outputs": [],
   "source": [
    "import os\n",
    "import shutil\n",
    "from docx import *\n",
    "from docx.shared import Inches\n",
    "from PIL import Image\n",
    "from docx.enum.text import WD_ALIGN_PARAGRAPH\n",
    "import shutil\n",
    "from docx2pdf import convert\n",
    "\n",
    "PATH = '../Batmaid/'\n",
    "IMG_PATH = PATH + 'images/'\n",
    "IMG_PATH_RESIZED = PATH + 'images_resized/'\n",
    "TEST_IMG = IMG_PATH + 'Living Room.jpg'\n",
    "TEST_IMG_RESIZED = TEST_IMG[:-4] + '_resized.jpg'\n",
    "IMG_INCHES = 5.5\n",
    "OUTPUT_DIR = PATH + 'output/'"
   ]
  },
  {
   "cell_type": "code",
   "execution_count": 267,
   "metadata": {},
   "outputs": [],
   "source": [
    "if os.path.isdir(IMG_PATH_RESIZED):\n",
    "    shutil.rmtree(IMG_PATH_RESIZED)\n",
    "if os.path.isdir(OUTPUT_DIR):\n",
    "    shutil.rmtree(OUTPUT_DIR)\n",
    "\n",
    "if not os.path.isdir(IMG_PATH_RESIZED):\n",
    "    os.mkdir(IMG_PATH_RESIZED)\n",
    "if not os.path.isdir(OUTPUT_DIR):\n",
    "    os.mkdir(OUTPUT_DIR)"
   ]
  },
  {
   "cell_type": "code",
   "execution_count": 268,
   "metadata": {},
   "outputs": [],
   "source": [
    "for img_name in os.listdir(IMG_PATH):  \n",
    "    im = Image.open(IMG_PATH + img_name)\n",
    "    width, height = im.size\n",
    "    new_height = int(height/2)\n",
    "    new_width  = int(new_height * width / height)\n",
    "    new_im = im.resize((new_width, new_height), Image.ANTIALIAS)\n",
    "    new_im.save(IMG_PATH_RESIZED + img_name[:-4] + '_resized.jpg')"
   ]
  },
  {
   "cell_type": "code",
   "execution_count": 269,
   "metadata": {},
   "outputs": [
    {
     "data": {
      "text/plain": [
       "<docx.text.paragraph.Paragraph at 0x7fe56de19d00>"
      ]
     },
     "execution_count": 269,
     "metadata": {},
     "output_type": "execute_result"
    }
   ],
   "source": [
    "doc = Document()\n",
    "title = 'Batmaid : End of tenancy cleaning'\n",
    "doc.add_heading(title, 0)\n",
    "last_paragraph = doc.paragraphs[-1] \n",
    "last_paragraph.alignment = WD_ALIGN_PARAGRAPH.CENTER\n",
    "doc.add_heading('Claim : Mopping was not done', 1)\n",
    "last_paragraph = doc.paragraphs[-1] \n",
    "last_paragraph.alignment = WD_ALIGN_PARAGRAPH.CENTER\n",
    "doc.add_page_break()"
   ]
  },
  {
   "cell_type": "code",
   "execution_count": 270,
   "metadata": {},
   "outputs": [],
   "source": [
    "for img_name in sorted(os.listdir(IMG_PATH_RESIZED)):\n",
    "    doc.add_picture(IMG_PATH_RESIZED + img_name, width=Inches(IMG_INCHES))\n",
    "    last_paragraph = doc.paragraphs[-1] \n",
    "    last_paragraph.alignment = WD_ALIGN_PARAGRAPH.CENTER\n",
    "    \n",
    "    doc.add_paragraph(img_name[:-14])\n",
    "    last_paragraph = doc.paragraphs[-1] \n",
    "    last_paragraph.alignment = WD_ALIGN_PARAGRAPH.CENTER"
   ]
  },
  {
   "cell_type": "code",
   "execution_count": 271,
   "metadata": {},
   "outputs": [],
   "source": [
    "import subprocess\n",
    "\n",
    "def generate_pdf(doc_path, path):\n",
    "\n",
    "    subprocess.call(['soffice',\n",
    "                 # '--headless',\n",
    "                 '--convert-to',\n",
    "                 'pdf',\n",
    "                 '--outdir',\n",
    "                 path,\n",
    "                 doc_path])\n",
    "    return doc_path"
   ]
  },
  {
   "cell_type": "code",
   "execution_count": 272,
   "metadata": {},
   "outputs": [
    {
     "name": "stdout",
     "output_type": "stream",
     "text": [
      "convert /home/alexis/Downloads/Batmaid/output//Batmaid : End of tenancy cleaning.docx -> /home/alexis/Downloads/Batmaid/output/Batmaid : End of tenancy cleaning.pdf using filter : writer_pdf_Export\n"
     ]
    },
    {
     "data": {
      "text/plain": [
       "'../Batmaid/output//Batmaid : End of tenancy cleaning.docx'"
      ]
     },
     "execution_count": 272,
     "metadata": {},
     "output_type": "execute_result"
    }
   ],
   "source": [
    "OUTPUT_PATH = OUTPUT_DIR + f'/{title}.docx'\n",
    "doc.save(OUTPUT_PATH)\n",
    "generate_pdf(OUTPUT_PATH, OUTPUT_DIR)"
   ]
  }
 ],
 "metadata": {
  "kernelspec": {
   "display_name": "Python 3.9.7 ('base')",
   "language": "python",
   "name": "python3"
  },
  "language_info": {
   "codemirror_mode": {
    "name": "ipython",
    "version": 3
   },
   "file_extension": ".py",
   "mimetype": "text/x-python",
   "name": "python",
   "nbconvert_exporter": "python",
   "pygments_lexer": "ipython3",
   "version": "3.9.7"
  },
  "orig_nbformat": 4,
  "vscode": {
   "interpreter": {
    "hash": "c52aacf6b70438758367438767b84ad651ae88409206dee925f0513a0df7651e"
   }
  }
 },
 "nbformat": 4,
 "nbformat_minor": 2
}
